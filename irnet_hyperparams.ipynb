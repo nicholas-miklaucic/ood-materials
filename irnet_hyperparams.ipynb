{
 "cells": [
  {
   "cell_type": "code",
   "execution_count": 1,
   "metadata": {},
   "outputs": [],
   "source": [
    "import torch\n",
    "import torch.nn as nn\n",
    "import torch.nn.functional as F\n",
    "import numpy as np\n",
    "import pandas as pd\n",
    "import seaborn as sns\n",
    "import matplotlib.pyplot as plt\n",
    "import rho_plus as rp\n",
    "\n",
    "theme, cs = rp.mpl_setup(False)\n",
    "\n",
    "torch.manual_seed(42)\n",
    "device = 'cuda'"
   ]
  },
  {
   "cell_type": "code",
   "execution_count": 2,
   "metadata": {},
   "outputs": [
    {
     "name": "stdout",
     "output_type": "stream",
     "text": [
      "(22483, 145)\n"
     ]
    },
    {
     "data": {
      "text/plain": [
       "219"
      ]
     },
     "execution_count": 2,
     "metadata": {},
     "output_type": "execute_result"
    }
   ],
   "source": [
    "from torch.utils.data import Dataset, DataLoader, random_split\n",
    "\n",
    "batch_size = 1024\n",
    "target = 'delta_e'\n",
    "dataset_split = 0\n",
    "\n",
    "class MyDataset(Dataset):\n",
    "    def __init__(self, inputs, target):\n",
    "        self.inputs = inputs.values.astype(np.float32)\n",
    "        self.labels = target.values.astype(np.float32)\n",
    "\n",
    "        self.inputs = torch.from_numpy(self.inputs).to(device)\n",
    "        self.labels = torch.from_numpy(self.labels).to(device)\n",
    "\n",
    "    @property\n",
    "    def dim_x(self) -> int:\n",
    "        return self.inputs.shape[1]\n",
    "\n",
    "    def __len__(self):\n",
    "        return len(self.inputs)\n",
    "\n",
    "    def __getitem__(self, index):\n",
    "        return self.inputs[index], self.labels[index].unsqueeze(0)\n",
    "\n",
    "    def getSALdata(self):\n",
    "        input = self.inputs.cpu().numpy()\n",
    "        label = self.labels.cpu().numpy()\n",
    "        return (input, label)\n",
    "\n",
    "\n",
    "all_data = pd.read_feather('mpc_full_feats_scaled_split.feather')\n",
    "all_data.drop(columns=['comp', 'TSNE_x', 'TSNE_y', 'umap_x', 'umap_y'], inplace=True)\n",
    "\n",
    "label_cols = ['magmom_pa', 'bandgap', 'delta_e']\n",
    "all_test_sets = [\n",
    "    'Xshift_tsne',\n",
    "    'Xshift_umap',\n",
    "    'statY_delta_e',\n",
    "    'infoY_delta_e',\n",
    "    'statY_bandgap',\n",
    "    'infoY_bandgap',\n",
    "    'Rsplt1',\n",
    "    'Rsplt2',\n",
    "    'Rsplt3',\n",
    "    'Rsplt4',\n",
    "    'Rsplt5',\n",
    "    'piezo',\n",
    "]\n",
    "\n",
    "input_cols = [\n",
    "    c for c in all_data.columns if c not in all_test_sets + label_cols + ['dataset_split']\n",
    "]\n",
    "test_set_flags = all_data[all_test_sets]\n",
    "\n",
    "in_split = all_data['dataset_split'] >= dataset_split\n",
    "inputs = all_data.loc[in_split & (~test_set_flags).all(axis=1)]\n",
    "print(inputs[input_cols].shape)\n",
    "\n",
    "train_dataset = MyDataset(inputs[input_cols], inputs[target])\n",
    "\n",
    "# use 20% of training data for validation\n",
    "train_set_size = int(len(train_dataset) * 0.8)\n",
    "valid_set_size = len(train_dataset) - train_set_size\n",
    "\n",
    "# split the train set into two\n",
    "seed = torch.Generator().manual_seed(42)\n",
    "train_dataset, valid_dataset = random_split(train_dataset, [train_set_size, valid_set_size], generator=seed)\n",
    "train_loader = DataLoader(train_dataset, batch_size=batch_size, shuffle=True, drop_last=True)\n",
    "valid_loader = DataLoader(valid_dataset, batch_size=batch_size, shuffle=False, drop_last=True)\n",
    "\n",
    "del all_data\n",
    "import gc\n",
    "gc.collect()"
   ]
  },
  {
   "cell_type": "code",
   "execution_count": 3,
   "metadata": {},
   "outputs": [],
   "source": [
    "import lightning as L\n",
    "\n",
    "class PandasLogger(L.pytorch.loggers.Logger):\n",
    "    def __init__(self):\n",
    "        super().__init__()\n",
    "        self.rows = []\n",
    "\n",
    "    def log_hyperparams(self, params, *args, **kwargs):\n",
    "        pass\n",
    "\n",
    "    def log_metrics(self, metrics, step=None):\n",
    "        model_type = 'none'\n",
    "        row = {'step': step}\n",
    "        for k in metrics:\n",
    "            if k.startswith('valid_') and metrics[k] is not None:\n",
    "                model_type = 'valid'\n",
    "                row[k.removeprefix('valid_')] = metrics[k]\n",
    "            elif k.startswith('train_') and metrics[k] is not None:\n",
    "                model_type = 'train'\n",
    "                row[k.removeprefix('train_')] = metrics[k]\n",
    "            elif k.startswith('test_') and metrics[k] is not None:\n",
    "                model_type = 'test'\n",
    "                row[k.removeprefix('test_')] = metrics[k]\n",
    "            else:\n",
    "                row[k] = metrics[k]\n",
    "\n",
    "        row['step'] = step\n",
    "        row['kind'] = model_type\n",
    "        self.rows.append(row)\n",
    "\n",
    "    @property\n",
    "    def version(self):\n",
    "        return 0\n",
    "\n",
    "    @property\n",
    "    def name(self):\n",
    "        return 'pandas'\n",
    "\n",
    "    def finalize(self, status):\n",
    "        self.df = pd.DataFrame(self.rows)"
   ]
  },
  {
   "cell_type": "code",
   "execution_count": 4,
   "metadata": {},
   "outputs": [
    {
     "data": {
      "text/plain": [
       "IRNet_intorch(\n",
       "  (layer0): Sequential(\n",
       "    (0): Linear(in_features=145, out_features=512, bias=True)\n",
       "    (1): LayerNorm((512,), eps=1e-05, elementwise_affine=True)\n",
       "    (2): ReLU()\n",
       "  )\n",
       "  (adapter0): Linear(in_features=145, out_features=512, bias=True)\n",
       "  (layer1): Sequential(\n",
       "    (0): Linear(in_features=512, out_features=256, bias=True)\n",
       "    (1): LayerNorm((256,), eps=1e-05, elementwise_affine=True)\n",
       "    (2): ReLU()\n",
       "  )\n",
       "  (adapter1): Linear(in_features=512, out_features=256, bias=True)\n",
       "  (layer2): Sequential(\n",
       "    (0): Linear(in_features=256, out_features=128, bias=True)\n",
       "    (1): LayerNorm((128,), eps=1e-05, elementwise_affine=True)\n",
       "    (2): ReLU()\n",
       "  )\n",
       "  (adapter2): Linear(in_features=256, out_features=128, bias=True)\n",
       "  (out): Linear(in_features=128, out_features=1, bias=True)\n",
       ")"
      ]
     },
     "execution_count": 4,
     "metadata": {},
     "output_type": "execute_result"
    }
   ],
   "source": [
    "from typing import Any\n",
    "class IRNet_intorch(L.LightningModule):\n",
    "    #'128-64-16'\n",
    "    def __init__(self, input_size, dims=(1024, 512, 256, 128, 64, 32), lr=1e-4):\n",
    "        super(IRNet_intorch, self).__init__()\n",
    "        self.dims = dims\n",
    "        self.lr = lr\n",
    "\n",
    "        self.adapters = []\n",
    "        self.layers = []\n",
    "        i = 0\n",
    "        prev_dim = input_size\n",
    "        for dim in dims:\n",
    "            fc = nn.Linear(prev_dim, dim)\n",
    "            bn = nn.LayerNorm(dim)\n",
    "            act = nn.ReLU()\n",
    "            mod = nn.Sequential(fc, bn, act)\n",
    "            self.add_module(f'layer{i}', mod)\n",
    "            self.layers.append(mod)\n",
    "\n",
    "            if dim != prev_dim:\n",
    "                adapter = nn.Linear(prev_dim, dim)\n",
    "                self.add_module(f'adapter{i}', adapter)\n",
    "                self.adapters.append(adapter)\n",
    "            else:\n",
    "                self.adapters.append(None)\n",
    "\n",
    "            prev_dim = dim\n",
    "            i += 1\n",
    "\n",
    "        self.out = nn.Linear(dim, 1)\n",
    "\n",
    "    def forward(self, x):\n",
    "        out = x\n",
    "        for layer, adapter in zip(self.layers, self.adapters):\n",
    "            if adapter is not None:\n",
    "                out_res = adapter(out)\n",
    "            else:\n",
    "                out_res = 0\n",
    "            out = layer(out) + out_res\n",
    "\n",
    "        return self.out(out)\n",
    "\n",
    "    def loss(self, batch, batch_idx):\n",
    "        inputs, target = batch\n",
    "        output = self(inputs)\n",
    "        loss = F.smooth_l1_loss(output, target)\n",
    "        return loss\n",
    "\n",
    "    def training_step(self, batch, batch_idx):\n",
    "        loss = self.loss(batch, batch_idx)\n",
    "        self.log('train_loss', loss)\n",
    "        return loss\n",
    "\n",
    "    def validation_step(self, batch, batch_idx):\n",
    "        loss = self.loss(batch, batch_idx)\n",
    "        self.log('valid_loss', loss)\n",
    "        return loss\n",
    "\n",
    "    def configure_optimizers(self):\n",
    "        return torch.optim.Adam(self.parameters(), lr=self.lr)\n",
    "\n",
    "model = IRNet_intorch(len(input_cols), dims=(512, 256, 128))\n",
    "model"
   ]
  },
  {
   "cell_type": "markdown",
   "metadata": {},
   "source": [
    "```\n",
    "IRNet_intorch(\n",
    "  (fc128): Linear(in_features=128, out_features=128, bias=True)\n",
    "  (fc64): Linear(in_features=64, out_features=64, bias=True)\n",
    "  (fc16): Linear(in_features=16, out_features=16, bias=True)\n",
    "  (bn128): BatchNorm1d(128, eps=1e-05, momentum=0.1, affine=True, track_running_stats=True)\n",
    "  (bn64): BatchNorm1d(64, eps=1e-05, momentum=0.1, affine=True, track_running_stats=True)\n",
    "  (bn16): BatchNorm1d(16, eps=1e-05, momentum=0.1, affine=True, track_running_stats=True)\n",
    "  (relu): ReLU()\n",
    "  (inputlayer): Linear(in_features=145, out_features=128, bias=True)\n",
    "  (con128_64): Linear(in_features=128, out_features=64, bias=True)\n",
    "  (con64_16): Linear(in_features=64, out_features=16, bias=True)\n",
    "  (output16): Linear(in_features=16, out_features=1, bias=True)\n",
    ")\n",
    "```"
   ]
  },
  {
   "cell_type": "code",
   "execution_count": 5,
   "metadata": {},
   "outputs": [
    {
     "name": "stderr",
     "output_type": "stream",
     "text": [
      "Trainer will use only 1 of 3 GPUs because it is running inside an interactive / notebook environment. You may try to set `Trainer(devices=3)` but please note that multi-GPU inside interactive / notebook environments is considered experimental and unstable. Your mileage may vary.\n",
      "GPU available: True (cuda), used: True\n",
      "TPU available: False, using: 0 TPU cores\n",
      "IPU available: False, using: 0 IPUs\n",
      "HPU available: False, using: 0 HPUs\n",
      "You are using a CUDA device ('NVIDIA GeForce RTX 3090') that has Tensor Cores. To properly utilize them, you should set `torch.set_float32_matmul_precision('medium' | 'high')` which will trade-off precision for performance. For more details, read https://pytorch.org/docs/stable/generated/torch.set_float32_matmul_precision.html#torch.set_float32_matmul_precision\n",
      "LOCAL_RANK: 0 - CUDA_VISIBLE_DEVICES: [0,1,2]\n"
     ]
    },
    {
     "data": {
      "text/html": [
       "<pre style=\"white-space:pre;overflow-x:auto;line-height:normal;font-family:Menlo,'DejaVu Sans Mono',consolas,'Courier New',monospace\">┏━━━┳━━━━━━━━━━┳━━━━━━━━━━━━┳━━━━━━━━┓\n",
       "┃<span style=\"color: #800080; text-decoration-color: #800080; font-weight: bold\">   </span>┃<span style=\"color: #800080; text-decoration-color: #800080; font-weight: bold\"> Name     </span>┃<span style=\"color: #800080; text-decoration-color: #800080; font-weight: bold\"> Type       </span>┃<span style=\"color: #800080; text-decoration-color: #800080; font-weight: bold\"> Params </span>┃\n",
       "┡━━━╇━━━━━━━━━━╇━━━━━━━━━━━━╇━━━━━━━━┩\n",
       "│<span style=\"color: #7f7f7f; text-decoration-color: #7f7f7f\"> 0 </span>│ layer0   │ Sequential │ 75.8 K │\n",
       "│<span style=\"color: #7f7f7f; text-decoration-color: #7f7f7f\"> 1 </span>│ adapter0 │ Linear     │ 74.8 K │\n",
       "│<span style=\"color: #7f7f7f; text-decoration-color: #7f7f7f\"> 2 </span>│ layer1   │ Sequential │  131 K │\n",
       "│<span style=\"color: #7f7f7f; text-decoration-color: #7f7f7f\"> 3 </span>│ adapter1 │ Linear     │  131 K │\n",
       "│<span style=\"color: #7f7f7f; text-decoration-color: #7f7f7f\"> 4 </span>│ layer2   │ Sequential │ 33.2 K │\n",
       "│<span style=\"color: #7f7f7f; text-decoration-color: #7f7f7f\"> 5 </span>│ adapter2 │ Linear     │ 32.9 K │\n",
       "│<span style=\"color: #7f7f7f; text-decoration-color: #7f7f7f\"> 6 </span>│ out      │ Linear     │    129 │\n",
       "└───┴──────────┴────────────┴────────┘\n",
       "</pre>\n"
      ],
      "text/plain": [
       "┏━━━┳━━━━━━━━━━┳━━━━━━━━━━━━┳━━━━━━━━┓\n",
       "┃\u001b[1;35m \u001b[0m\u001b[1;35m \u001b[0m\u001b[1;35m \u001b[0m┃\u001b[1;35m \u001b[0m\u001b[1;35mName    \u001b[0m\u001b[1;35m \u001b[0m┃\u001b[1;35m \u001b[0m\u001b[1;35mType      \u001b[0m\u001b[1;35m \u001b[0m┃\u001b[1;35m \u001b[0m\u001b[1;35mParams\u001b[0m\u001b[1;35m \u001b[0m┃\n",
       "┡━━━╇━━━━━━━━━━╇━━━━━━━━━━━━╇━━━━━━━━┩\n",
       "│\u001b[2m \u001b[0m\u001b[2m0\u001b[0m\u001b[2m \u001b[0m│ layer0   │ Sequential │ 75.8 K │\n",
       "│\u001b[2m \u001b[0m\u001b[2m1\u001b[0m\u001b[2m \u001b[0m│ adapter0 │ Linear     │ 74.8 K │\n",
       "│\u001b[2m \u001b[0m\u001b[2m2\u001b[0m\u001b[2m \u001b[0m│ layer1   │ Sequential │  131 K │\n",
       "│\u001b[2m \u001b[0m\u001b[2m3\u001b[0m\u001b[2m \u001b[0m│ adapter1 │ Linear     │  131 K │\n",
       "│\u001b[2m \u001b[0m\u001b[2m4\u001b[0m\u001b[2m \u001b[0m│ layer2   │ Sequential │ 33.2 K │\n",
       "│\u001b[2m \u001b[0m\u001b[2m5\u001b[0m\u001b[2m \u001b[0m│ adapter2 │ Linear     │ 32.9 K │\n",
       "│\u001b[2m \u001b[0m\u001b[2m6\u001b[0m\u001b[2m \u001b[0m│ out      │ Linear     │    129 │\n",
       "└───┴──────────┴────────────┴────────┘\n"
      ]
     },
     "metadata": {},
     "output_type": "display_data"
    },
    {
     "data": {
      "text/html": [
       "<pre style=\"white-space:pre;overflow-x:auto;line-height:normal;font-family:Menlo,'DejaVu Sans Mono',consolas,'Courier New',monospace\"><span style=\"font-weight: bold\">Trainable params</span>: 479 K                                                                                            \n",
       "<span style=\"font-weight: bold\">Non-trainable params</span>: 0                                                                                            \n",
       "<span style=\"font-weight: bold\">Total params</span>: 479 K                                                                                                \n",
       "<span style=\"font-weight: bold\">Total estimated model params size (MB)</span>: 1                                                                          \n",
       "</pre>\n"
      ],
      "text/plain": [
       "\u001b[1mTrainable params\u001b[0m: 479 K                                                                                            \n",
       "\u001b[1mNon-trainable params\u001b[0m: 0                                                                                            \n",
       "\u001b[1mTotal params\u001b[0m: 479 K                                                                                                \n",
       "\u001b[1mTotal estimated model params size (MB)\u001b[0m: 1                                                                          \n"
      ]
     },
     "metadata": {},
     "output_type": "display_data"
    },
    {
     "data": {
      "application/vnd.jupyter.widget-view+json": {
       "model_id": "535a923bd56e4d7a9899f748b7a2f844",
       "version_major": 2,
       "version_minor": 0
      },
      "text/plain": [
       "Output()"
      ]
     },
     "metadata": {},
     "output_type": "display_data"
    },
    {
     "data": {
      "text/html": [
       "<pre style=\"white-space:pre;overflow-x:auto;line-height:normal;font-family:Menlo,'DejaVu Sans Mono',consolas,'Courier New',monospace\">/home/nmiklaucic/miniconda3/envs/baysic/lib/python3.10/site-packages/lightning/pytorch/trainer/connectors/data_conn\n",
       "ector.py:441: The 'val_dataloader' does not have many workers which may be a bottleneck. Consider increasing the \n",
       "value of the `num_workers` argument` to `num_workers=63` in the `DataLoader` to improve performance.\n",
       "</pre>\n"
      ],
      "text/plain": [
       "/home/nmiklaucic/miniconda3/envs/baysic/lib/python3.10/site-packages/lightning/pytorch/trainer/connectors/data_conn\n",
       "ector.py:441: The 'val_dataloader' does not have many workers which may be a bottleneck. Consider increasing the \n",
       "value of the `num_workers` argument` to `num_workers=63` in the `DataLoader` to improve performance.\n"
      ]
     },
     "metadata": {},
     "output_type": "display_data"
    },
    {
     "data": {
      "text/html": [
       "<pre style=\"white-space:pre;overflow-x:auto;line-height:normal;font-family:Menlo,'DejaVu Sans Mono',consolas,'Courier New',monospace\">/home/nmiklaucic/miniconda3/envs/baysic/lib/python3.10/site-packages/lightning/pytorch/trainer/connectors/data_conn\n",
       "ector.py:441: The 'train_dataloader' does not have many workers which may be a bottleneck. Consider increasing the \n",
       "value of the `num_workers` argument` to `num_workers=63` in the `DataLoader` to improve performance.\n",
       "</pre>\n"
      ],
      "text/plain": [
       "/home/nmiklaucic/miniconda3/envs/baysic/lib/python3.10/site-packages/lightning/pytorch/trainer/connectors/data_conn\n",
       "ector.py:441: The 'train_dataloader' does not have many workers which may be a bottleneck. Consider increasing the \n",
       "value of the `num_workers` argument` to `num_workers=63` in the `DataLoader` to improve performance.\n"
      ]
     },
     "metadata": {},
     "output_type": "display_data"
    },
    {
     "name": "stderr",
     "output_type": "stream",
     "text": [
      "`Trainer.fit` stopped: `max_epochs=100` reached.\n"
     ]
    },
    {
     "data": {
      "text/html": [
       "<pre style=\"white-space:pre;overflow-x:auto;line-height:normal;font-family:Menlo,'DejaVu Sans Mono',consolas,'Courier New',monospace\"></pre>\n"
      ],
      "text/plain": []
     },
     "metadata": {},
     "output_type": "display_data"
    },
    {
     "data": {
      "text/html": [
       "<pre style=\"white-space:pre;overflow-x:auto;line-height:normal;font-family:Menlo,'DejaVu Sans Mono',consolas,'Courier New',monospace\">\n",
       "</pre>\n"
      ],
      "text/plain": [
       "\n"
      ]
     },
     "metadata": {},
     "output_type": "display_data"
    }
   ],
   "source": [
    "import lightning.pytorch.callbacks as callbacks\n",
    "trainer = L.Trainer(logger=PandasLogger(), enable_checkpointing=False, callbacks=[\n",
    "    # callbacks.LearningRateFinder(min_lr=1e-5, max_lr=1e-2, mode='exponential'),\n",
    "    callbacks.RichProgressBar()\n",
    "], max_epochs=100, log_every_n_steps=10, check_val_every_n_epoch=5)\n",
    "trainer.fit(model=model, train_dataloaders=train_loader, val_dataloaders=valid_loader)"
   ]
  },
  {
   "cell_type": "code",
   "execution_count": 7,
   "metadata": {},
   "outputs": [
    {
     "data": {
      "text/plain": [
       "[4.941927006636395e-05,\n",
       " 4.930356606641153e-05,\n",
       " 4.9213711616947204e-05,\n",
       " 4.9397502405242064e-05]"
      ]
     },
     "execution_count": 7,
     "metadata": {},
     "output_type": "execute_result"
    },
    {
     "data": {
      "image/png": "[encoded data removed]",
      "text/plain": [
       "<Figure size 1300x800 with 1 Axes>"
      ]
     },
     "metadata": {},
     "output_type": "display_data"
    }
   ],
   "source": [
    "logs = trainer.logger.df\n",
    "logs['epoch_frac'] = logs['epoch'] + logs.groupby('epoch')['step'].transform(lambda x: (x - x.min()) / (x.max() - x.min()))\n",
    "fig, ax = plt.subplots(figsize=(13, 8))\n",
    "for kind in sorted(set(logs['kind'])):\n",
    "    ax.plot('epoch_frac', 'loss', data=logs.query('kind == @kind'), label=kind, lw=0.5)\n",
    "\n",
    "ax.set_ylim(0, logs[logs['epoch'] == int(logs['epoch'].max() * 0.05)]['loss'].mean())\n",
    "rp.line_labels()\n",
    "rp.smooth_noisy_lines()"
   ]
  },
  {
   "cell_type": "code",
   "execution_count": null,
   "metadata": {},
   "outputs": [],
   "source": []
  }
 ],
 "metadata": {
  "kernelspec": {
   "display_name": "baysic",
   "language": "python",
   "name": "python3"
  },
  "language_info": {
   "codemirror_mode": {
    "name": "ipython",
    "version": 3
   },
   "file_extension": ".py",
   "mimetype": "text/x-python",
   "name": "python",
   "nbconvert_exporter": "python",
   "pygments_lexer": "ipython3",
   "version": "3.10.13"
  }
 },
 "nbformat": 4,
 "nbformat_minor": 2
}
